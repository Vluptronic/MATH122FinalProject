{
 "cells": [
  {
   "cell_type": "code",
   "execution_count": 1,
   "metadata": {},
   "outputs": [],
   "source": [
    "import sklearn\n",
    "import numpy "
   ]
  },
  {
   "cell_type": "code",
   "execution_count": 2,
   "metadata": {},
   "outputs": [],
   "source": [
    "from matplotlib import pyplot as plt"
   ]
  },
  {
   "cell_type": "code",
   "execution_count": 3,
   "metadata": {},
   "outputs": [],
   "source": [
    "import pandas as pd\n",
    "import numpy as np\n",
    "from sklearn.cluster import KMeans\n",
    "from sklearn.metrics import accuracy_score\n",
    "import matplotlib.pyplot as plt\n",
    "\n",
    "# Reload the training and testing sets\n",
    "training_set_path = 'Training_Set.csv'\n",
    "testing_set_path = 'Test_Set.csv'\n",
    "\n",
    "training_set = pd.read_csv(training_set_path)\n",
    "testing_set = pd.read_csv(testing_set_path)\n",
    "\n",
    "\n"
   ]
  },
  {
   "cell_type": "code",
   "execution_count": 11,
   "metadata": {},
   "outputs": [
    {
     "data": {
      "text/plain": [
       "0.6639676113360324"
      ]
     },
     "execution_count": 11,
     "metadata": {},
     "output_type": "execute_result"
    }
   ],
   "source": [
    "# First Let's try ridge regression like Q1\n",
    "\n",
    "\n",
    "# Import Ridge Regression and related tools\n",
    "from sklearn.linear_model import Ridge\n",
    "from sklearn.preprocessing import LabelEncoder\n",
    "from sklearn.metrics import accuracy_score\n",
    "\n",
    "\n",
    "# Encode the TYPE column into numeric labels\n",
    "label_encoder = LabelEncoder()\n",
    "training_set['TYPE_NUM'] = label_encoder.fit_transform(training_set['TYPE'])\n",
    "# Encode test labels using the same encoder for consistency\n",
    "test_features = testing_set.drop(columns=['TYPE']).values\n",
    "test_true_labels = label_encoder.transform(testing_set['TYPE'])\n",
    "\n",
    "ridge_model = Ridge(alpha=1)  # alpha is the regularization strength\n",
    "ridge_model.fit(test_features,test_true_labels)\n",
    "# Predict using the Ridge regression model\n",
    "predicted_numeric_labels = np.round(ridge_model.predict(test_features)).astype(int)\n",
    "\n",
    "# Ensure predicted labels are consistent with the training label encoding\n",
    "predicted_numeric_labels = np.clip(predicted_numeric_labels, 0, len(label_encoder.classes_) - 1)\n",
    "predicted_labels = label_encoder.inverse_transform(predicted_numeric_labels)\n",
    "\n",
    "ridge_accuracy = accuracy_score(testing_set['TYPE'], predicted_labels)\n",
    "ridge_accuracy\n"
   ]
  },
  {
   "cell_type": "code",
   "execution_count": 26,
   "metadata": {},
   "outputs": [
    {
     "data": {
      "text/plain": [
       "0.797795771479982"
      ]
     },
     "execution_count": 26,
     "metadata": {},
     "output_type": "execute_result"
    }
   ],
   "source": [
    "# Step 1: Calculate centroids for each diagnosis type\n",
    "diagnoses = training_set['TYPE'].unique()\n",
    "centroids = []\n",
    "for diagnosis in diagnoses:\n",
    "    # Extract features for the current diagnosis\n",
    "    diagnosis_data = training_set[training_set['TYPE'] == diagnosis].drop(columns=['TYPE']).values\n",
    "    # Compute the centroid (mean of features for the diagnosis)\n",
    "    centroids.append(np.mean(diagnosis_data, axis=0))\n",
    "\n",
    "# Convert centroids to a dictionary for easier mapping\n",
    "diagnosis_to_centroid = {diagnosis: centroid for diagnosis, centroid in zip(diagnoses, centroids)}\n",
    "\n",
    "# Step 2: Assign test data points to the nearest centroid and predict labels\n",
    "test_features = testing_set.drop(columns=['TYPE']).values\n",
    "true_labels = testing_set['TYPE']\n",
    "predicted_labels = []\n",
    "\n",
    "for point in test_features:\n",
    "    # Compute distances to all centroids\n",
    "    distances = {diagnosis: np.linalg.norm(point - centroid) for diagnosis, centroid in diagnosis_to_centroid.items()}\n",
    "    # Assign the diagnosis with the nearest centroid\n",
    "    predicted_labels.append(min(distances, key=distances.get))\n",
    "# Step 3: Evaluate overall accuracy\n",
    "overall_accuracy = accuracy_score(true_labels, predicted_labels)\n",
    "\n",
    "\n",
    "overall_accuracy"
   ]
  },
  {
   "cell_type": "code",
   "execution_count": 22,
   "metadata": {},
   "outputs": [
    {
     "data": {
      "text/plain": [
       "0.797795771479982"
      ]
     },
     "execution_count": 22,
     "metadata": {},
     "output_type": "execute_result"
    }
   ],
   "source": [
    "# Let's Test Accuracy \n",
    "from sklearn.metrics import accuracy_score\n",
    "test_features = testing_set.drop(columns=['TYPE']).values\n",
    "true_labels = testing_set['TYPE']\n",
    "\n",
    "# Map each diagnosis to its centroid from the training phase\n",
    "diagnosis_to_centroid = {diagnosis: centroid[0] for diagnosis, centroid in zip(diagnoses, centroids)}\n",
    "\n",
    "# Predict labels for the test set\n",
    "predicted_labels = []\n",
    "\n",
    "for point in test_features:\n",
    "    # Calculate distances to all centroids\n",
    "    distances = {diagnosis: np.linalg.norm(point - centroid) for diagnosis, centroid in diagnosis_to_centroid.items()}\n",
    "    # Assign the diagnosis with the closest centroid\n",
    "    predicted_labels.append(min(distances, key=distances.get))\n",
    "\n",
    "# Calculate accuracy\n",
    "accuracy = accuracy_score(true_labels, predicted_labels)\n",
    "\n",
    "accuracy"
   ]
  },
  {
   "cell_type": "code",
   "execution_count": 23,
   "metadata": {},
   "outputs": [],
   "source": [
    "\n",
    "# Recompute centroids for training data\n",
    "centroids = []\n",
    "for diagnosis in diagnoses:\n",
    "    diagnosis_data = training_set[training_set['TYPE'] == diagnosis].drop(columns=['TYPE']).values\n",
    "    kmean = sklearn.cluster.KMeans(n_clusters=1, init='k-means++', n_init=10, max_iter=300, tol=0.0001, random_state=42, algorithm='lloyd')\n",
    "    # Calculating kmean separately\n",
    "    kmean.fit(diagnosis_data)\n",
    "    centroids.append(kmean.cluster_centers_)\n",
    "\n",
    "# Map each diagnosis to its centroid\n",
    "diagnosis_to_centroid = {diagnosis: centroid[0] for diagnosis, centroid in zip(diagnoses, centroids)}\n",
    "\n",
    "# Calculate accuracy per diagnosis category in the test set\n",
    "category_accuracies = {}\n",
    "for diagnosis in diagnoses:\n",
    "    # First filter rows for the current diagnosis\n",
    "    category_data = testing_set[testing_set['TYPE'] == diagnosis]\n",
    "    \n",
    "    # Prepare features and true labels for this category\n",
    "    category_features = category_data.drop(columns=['TYPE']).values\n",
    "    category_labels = category_data['TYPE']\n",
    "    \n",
    "    # Predict labels for this category\n",
    "    category_predictions = []\n",
    "    for point in category_features:\n",
    "        distances = {diag: np.linalg.norm(point - centroid) for diag, centroid in diagnosis_to_centroid.items()}\n",
    "        category_predictions.append(min(distances, key=distances.get))\n",
    "    \n",
    "    # Calculate accuracy for this category\n",
    "    category_accuracy = accuracy_score(category_labels, category_predictions)\n",
    "    category_accuracies[diagnosis] = category_accuracy\n",
    "\n",
    "# Display accuracies by category\n",
    "category_accuracies_df = pd.DataFrame(category_accuracies.items(), columns=[\"Diagnosis\", \"Accuracy\"])\n"
   ]
  },
  {
   "cell_type": "code",
   "execution_count": 24,
   "metadata": {},
   "outputs": [
    {
     "name": "stdout",
     "output_type": "stream",
     "text": [
      "  Diagnosis  Accuracy\n",
      "0   ALLERGY  0.891974\n",
      "1      COLD  1.000000\n",
      "2     COVID  0.968293\n",
      "3       FLU  0.713800\n"
     ]
    }
   ],
   "source": [
    "print(category_accuracies_df)"
   ]
  }
 ],
 "metadata": {
  "kernelspec": {
   "display_name": "MATH122A",
   "language": "python",
   "name": "python3"
  },
  "language_info": {
   "codemirror_mode": {
    "name": "ipython",
    "version": 3
   },
   "file_extension": ".py",
   "mimetype": "text/x-python",
   "name": "python",
   "nbconvert_exporter": "python",
   "pygments_lexer": "ipython3",
   "version": "3.10.14"
  }
 },
 "nbformat": 4,
 "nbformat_minor": 2
}
